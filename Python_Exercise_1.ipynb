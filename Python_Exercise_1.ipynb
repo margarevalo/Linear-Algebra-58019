{
  "nbformat": 4,
  "nbformat_minor": 0,
  "metadata": {
    "colab": {
      "name": "Python Exercise 1",
      "provenance": [],
      "collapsed_sections": [],
      "authorship_tag": "ABX9TyNPfCrht3Id9NJvuSnle/GG",
      "include_colab_link": true
    },
    "kernelspec": {
      "name": "python3",
      "display_name": "Python 3"
    },
    "language_info": {
      "name": "python"
    }
  },
  "cells": [
    {
      "cell_type": "markdown",
      "metadata": {
        "id": "view-in-github",
        "colab_type": "text"
      },
      "source": [
        "<a href=\"https://colab.research.google.com/github/margarevalo/Linear-Algebra-58019/blob/main/Python_Exercise_1.ipynb\" target=\"_parent\"><img src=\"https://colab.research.google.com/assets/colab-badge.svg\" alt=\"Open In Colab\"/></a>"
      ]
    },
    {
      "cell_type": "markdown",
      "metadata": {
        "id": "2ZTjos3m72vC"
      },
      "source": [
        "Matrix and Its Operations"
      ]
    },
    {
      "cell_type": "code",
      "metadata": {
        "colab": {
          "base_uri": "https://localhost:8080/"
        },
        "id": "nuM79xx6ANMY",
        "outputId": "dcb5d014-ed9e-44bc-d1c7-7322f369e337"
      },
      "source": [
        "import numpy as np\n",
        "A = np.array ([[-5,0],[4,1]])\n",
        "B = np.array ([[6,-3],[2,3]])\n",
        "print(A)\n",
        "print(\"\")\n",
        "print(B)"
      ],
      "execution_count": 15,
      "outputs": [
        {
          "output_type": "stream",
          "name": "stdout",
          "text": [
            "[[-5  0]\n",
            " [ 4  1]]\n",
            "\n",
            "[[ 6 -3]\n",
            " [ 2  3]]\n"
          ]
        }
      ]
    },
    {
      "cell_type": "code",
      "metadata": {
        "colab": {
          "base_uri": "https://localhost:8080/"
        },
        "id": "kYdk4pJE8A0M",
        "outputId": "e86b8627-3d94-475b-f4e3-0963e57ab8c8"
      },
      "source": [
        "#Sum\n",
        "import numpy as np\n",
        "A = np.array ([[-5,0],[4,1]])\n",
        "B = np.array ([[6,-3],[2,3]])\n",
        "print(A+B)"
      ],
      "execution_count": 13,
      "outputs": [
        {
          "output_type": "stream",
          "name": "stdout",
          "text": [
            "[[ 1 -3]\n",
            " [ 6  4]]\n"
          ]
        }
      ]
    },
    {
      "cell_type": "code",
      "metadata": {
        "colab": {
          "base_uri": "https://localhost:8080/"
        },
        "id": "AKi_6_WM-s1E",
        "outputId": "d8b4455d-32de-489a-ac6e-6ff2367bb932"
      },
      "source": [
        "#Difference1\n",
        "import numpy as np\n",
        "A = np.array ([[-5,0],[4,1]])\n",
        "B = np.array ([[6,-3],[2,3]])\n",
        "print(B-A)\n"
      ],
      "execution_count": 12,
      "outputs": [
        {
          "output_type": "stream",
          "name": "stdout",
          "text": [
            "[[11 -3]\n",
            " [-2  2]]\n"
          ]
        }
      ]
    },
    {
      "cell_type": "code",
      "metadata": {
        "colab": {
          "base_uri": "https://localhost:8080/"
        },
        "id": "N1IJ9bQj-0eP",
        "outputId": "183039bf-c398-4fb6-cdea-e27c57f6ccbe"
      },
      "source": [
        "#Difference2\n",
        "import numpy as np\n",
        "A = np.array ([[-5,0],[4,1]])\n",
        "B = np.array ([[6,-3],[2,3]])\n",
        "print(A-B)"
      ],
      "execution_count": 14,
      "outputs": [
        {
          "output_type": "stream",
          "name": "stdout",
          "text": [
            "[[-11   3]\n",
            " [  2  -2]]\n"
          ]
        }
      ]
    }
  ]
}