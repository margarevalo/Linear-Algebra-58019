{
  "nbformat": 4,
  "nbformat_minor": 0,
  "metadata": {
    "colab": {
      "name": "Midterm Exam",
      "provenance": [],
      "authorship_tag": "ABX9TyPMaoxJ0UaKTej7OCFRo146",
      "include_colab_link": true
    },
    "kernelspec": {
      "name": "python3",
      "display_name": "Python 3"
    },
    "language_info": {
      "name": "python"
    }
  },
  "cells": [
    {
      "cell_type": "markdown",
      "metadata": {
        "id": "view-in-github",
        "colab_type": "text"
      },
      "source": [
        "<a href=\"https://colab.research.google.com/github/margarevalo/Linear-Algebra-58019/blob/main/Midterm_Exam.ipynb\" target=\"_parent\"><img src=\"https://colab.research.google.com/assets/colab-badge.svg\" alt=\"Open In Colab\"/></a>"
      ]
    },
    {
      "cell_type": "markdown",
      "metadata": {
        "id": "PMSyNU6pHG2O"
      },
      "source": [
        "##Midterm Exam"
      ]
    },
    {
      "cell_type": "markdown",
      "metadata": {
        "id": "odUvZ-Lz687B"
      },
      "source": [
        "##Question 1. Create a Python code that displays a square matrix whose length is 5 (10 points)"
      ]
    },
    {
      "cell_type": "code",
      "metadata": {
        "colab": {
          "base_uri": "https://localhost:8080/"
        },
        "id": "Zfg_OlnX6M6S",
        "outputId": "29c586ff-6c5e-4f19-b119-032996fcb0a1"
      },
      "source": [
        "import numpy as np #import Library\n",
        "#square matrix is same length and wdth therefore it is 5x5 matrix\n",
        "SquareMatrix = np.array ([[1,2,3,4,5],[2,0,0,0,0],[3,0,0,0,0],[4,0,0,0,0],[5,0,0,0,0]]) #5x5 matrix\n",
        "print(\"This is an example of square matrix whose length is 5\") #this section is optional\n",
        "print() #this is for spacing and also optional\n",
        "print(SquareMatrix) #this is the final answer"
      ],
      "execution_count": 1,
      "outputs": [
        {
          "output_type": "stream",
          "name": "stdout",
          "text": [
            "This is an example of square matrix whose length is 5\n",
            "\n",
            "[[1 2 3 4 5]\n",
            " [2 0 0 0 0]\n",
            " [3 0 0 0 0]\n",
            " [4 0 0 0 0]\n",
            " [5 0 0 0 0]]\n"
          ]
        }
      ]
    },
    {
      "cell_type": "markdown",
      "metadata": {
        "id": "l7FwndrQ8HEr"
      },
      "source": [
        "##Question 2. Create a Python code that displays a square matrix whose elements below the principal diagonal are zero (10 points)"
      ]
    },
    {
      "cell_type": "code",
      "metadata": {
        "colab": {
          "base_uri": "https://localhost:8080/"
        },
        "id": "UWezkwxF8J46",
        "outputId": "b073c3eb-6f4f-4bed-9f17-80114902bd5d"
      },
      "source": [
        "import numpy as np\n",
        "\n",
        "C = np.triu([[1,2,3,4,5],[5,10,15,20,25],[30,35,40,45,50],[55,60,65,70,75],[80,85,90,95,100]])\n",
        "print(C)"
      ],
      "execution_count": 15,
      "outputs": [
        {
          "output_type": "stream",
          "name": "stdout",
          "text": [
            "[[  1   2   3   4   5]\n",
            " [  0  10  15  20  25]\n",
            " [  0   0  40  45  50]\n",
            " [  0   0   0  70  75]\n",
            " [  0   0   0   0 100]]\n"
          ]
        }
      ]
    },
    {
      "cell_type": "markdown",
      "metadata": {
        "id": "LtGOcUQ38aiz"
      },
      "source": [
        "##Question 3. Create a Python code that displays a square matrix which is symmetrical (10 points)"
      ]
    },
    {
      "cell_type": "code",
      "metadata": {
        "colab": {
          "base_uri": "https://localhost:8080/"
        },
        "id": "EW3LsRCH8dK4",
        "outputId": "741bda77-ced1-4e9f-8448-994c6bb4b90e"
      },
      "source": [
        "import numpy as np\n",
        "\n",
        "A = np.array([[1,2,3],[4,5,6],[7,8,9]])\n",
        "print(A)\n",
        "print()\n",
        "\n",
        "B = np.transpose(A)\n",
        "print(B)\n",
        "print()\n",
        "\n",
        "C = np.matmul(A, B)\n",
        "print(C)\n",
        "print()"
      ],
      "execution_count": 20,
      "outputs": [
        {
          "output_type": "stream",
          "name": "stdout",
          "text": [
            "[[1 2 3]\n",
            " [4 5 6]\n",
            " [7 8 9]]\n",
            "\n",
            "[[1 4 7]\n",
            " [2 5 8]\n",
            " [3 6 9]]\n",
            "\n",
            "[[ 14  32  50]\n",
            " [ 32  77 122]\n",
            " [ 50 122 194]]\n",
            "\n"
          ]
        }
      ]
    },
    {
      "cell_type": "markdown",
      "metadata": {
        "id": "OL7su35b8dm_"
      },
      "source": [
        "##Question 4. What is the inverse of matrix C? Show your solution by python coding. (20 points)![2.PNG](data:image/png;base64,iVBORw0KGgoAAAANSUhEUgAAAIQAAAB6CAYAAAB+3PvOAAAAAXNSR0IArs4c6QAAAARnQU1BAACxjwv8YQUAAAAJcEhZcwAADsMAAA7DAcdvqGQAAAx9SURBVHhe7Z0xSCNNFMevsLCwsLS4QkGIhQQb4YoUQiwkXGHginSxkGBxAQuLgwjCWlkfeJVcYcAihRCLQ2wCFik+iIXIFQYsUhzkqmDhgsX79m1mN7PJ7Lo7OzObW+cHA3fuurPO/5+ZN7OzLx9Ao6HQhtB4EGqIl5cX+PXrF3z9+hW+fPkCnz59gsXFRTg6OiJnaMKCbfbx40e7Dbe3t+02vby8tNtYJkIMgTdaKpVgbm4OPnz4MFG0IaKDbcZqy9nZWdsgFxcX8Pr6Ss4WRyxD3N7e2g5m3ThdtCGi42cIuqytrcHNzQ35DTFwGeLPnz+2S1k3ySraENEJYwinbG1tQa/XI78Zj8iGuLu7s8c21o1hwWN7e3t2l4Y9yNPTE/lNTVSw7bANsS339/fteIzV5lgWFhag3W6T3+QnkiEwVvCLEzCG+O+//8iZGlngB3JnZ4epAcYX5+fn5Ew+QhsCzcC6iVwuJ8SZmmigMTY2NpiaxDFFKENg5aye4du3b1IiXU14WLEG9hS8H9I3DYEB5HjMMDMzE7tr8jC4hmpmCZbKDeiTH0nD7EG7XoNKYR0yS1adWLJ5KFQMaHRk196HTsOg6s7AeqECtXo71t/NGsoxpuAJNN80BGs2IdQM0INGOTMURrIhzIdTKKLxHCMwSv7g2rojCfRbUMuz67RLtgL1rklOjs7V1dWETjikRCXQEBjhjleCw4Q4LDNUsqNGkWmIfhPKjhnyB9B46IPb/NhrnBTdHiNvdEbHhPAAp44ZUHiq7kG3CUaBfCAyVbgekAMcHB8fT+iFRolCoCHGF50wgBQWM1ifGLchnCLREA+nOdLoNWj5qN2tF8m9FKEusJsYNCuj63bJD2lMq/cgZi3GrBjXJGjNVlZWImnmawjWrELMbKIP7dMSZO0Gsor1iamUyb+lGaIDJ6TBC0xFCCgMua9yU9Sd9K0hkfx9tZZPz2NCq0bOKTdjtcH9/b0d49G6RRnifQ2B6wr0RfH/IugY5A9fykLpdBhMuT+TZYj+NRwUCpDPLoER6OkOGPa9WYZoiLqTHlzXKlCwAsmKr8kGcF0lbVC9tv4Xj93dXY92m5ub5MjbMA2BT9TGo1ZRi06d0yJUz1rQpf5q6YYIy6AJFccQwnqIEPQaUCb1xh0ykMfHR4922GM8Pz+To8EwDYGPsOkL4rRTJtNiCFkxhC9WMIvTUGfmk7H+flHVrq6uejQMO2wwDYHP3umL4bMJmUyFIfBT6ggjoNsOxJr+5mzjjUrRGstE/u2Hh4ceDXEYCQPTEOPxAz5ckUnihqDXCGJO/ULRNjxmGJZRTCWC8V4+bBzBNMT4GjmuR8gkUUP0rIDTNUM51uJQaMyBO9sw+11oUWsgmZizDAd83EBriHsnwsA0xPLysudish9hJ2UIs1sfLVapMoMPvUZ5eB9LGai1498HLlvTGoaNA5mGmJ+f91xMNkkYot+qQd4WwCrZCjRUBJFBmG13cWrJ6JAfxoPWMKyOzLN4LhQHtYYwrZiO6qILJ9CWHTOEglrAEtQOPDq+M0OYVl35YV1WyR805TzIorGGpZK9KJaD0wfyMyY9aJRIOwia5fDo+I4MQZshA8XTjtyppQM+2icGDFw2pxbFAs+LAI+O78YQphUzyHuaGQQuS7/1NHNgzUTJw7elMohaNefR8X0YwuyAkSN1rFeh3mrbD+oCC722Hhdq0Wv80bvZ68CZuwUgA2WB0S2Pju/CEIPrKmnwCEVQpO+AU9xKllGPW7JQsYYKkT0Xj47vwhDu9aMUwYawwY04Z1UryBxt38vmC1AxGiBj9x6PjlNhCI0ceHTUhkgxPDpqQ6QYHh21IVIMj47aECmGR0dtiBTDo6M2RIrh0VEbIsXw6KgNkWJ4dNSGSDE8OmpDpBgeHbUhUgyPjtoQKYZHR22IFMOjYzKGGDxA86QKpfwoN0RmvQCl6hm0RG5MYSIni0s41NbNo6NyQ/SuD0bb35kF9zs+yNniJjmLSyAJ1M2jo1JDmJ0T1wyZ4gm0e6MGMPsP0DgYbYIVuZVsiJosLmySqZtHR4WGGECzQhqlWAf2vmJMnOE0Tg0EvMDkojKLyzhJ1c2jozpDYI4nu1GWoOaX0wfp1qFgn5eBE2G72NRmcfGSXN08OqozROcMCoUCrGdKwa/N9UfJM8Rta1SfxWVEcnXz6KjOEGFxcyeI7CFCIDiLSyQk1c2j45QZQl4M4YvELC5vIrluHh2nyhBmx3BnIfngFyHjoyCLiy+K6ubRcWoM4cnVkD+1JmqSUZDFxRdFdfPoOBWG8KQcztegpeJjqiCLiy+K6ubRMXFDeBJ3qDKDD6KzuERBRt08OiZoCBO69fLokzENiTskZHEJzfvOIGPNzd1l6iXIVhRG9oGIz+ISnnebQYb6OgSre1SSuCPBLC46g0wgtBnycNBU1C8kmMVFZ5AJYJQ6WMbTzCCSy+KSZN08OqozBPWMYql4AtesrC1jpUM9Ho9NQllcbHQGmUncLzCJUMR9RcGQJLK4OOgMMh6oCDpCEW0IG8VZXDzoDDKaJOHRURsixfDoqA2RYnh01IZIMTw6akNMM9ZUPQ48OmpDTDPaEBqR8OioDZFieHTUhkgxPDpqQ6QYHh21IVIMj47aECmGR0dtiBTDo6M2RIrh0TEZQwy60MLHwG4GmSzkS1U4aT4I2UsYldEbYwYo2WutKIMOj47KDeF5Q4tRMgVD7bsZZnv0fVwKDKEygw6PjmoNgRtOiRls4d0tcib0OmejHUUqXuWzofY72kWuIVRn0OHRUakh3G10mRowc4ZYvUeRNIiKN6f6zdGLQvINoT6DDo+OCg3RAYP0Dv7bzLtQLwzPychODuFsfM2UwTBKQxFkGiKBDDo8OqozxKADZ9USFPLrAX/oA5yS8TwnNR0Avh8ybHTsmkfvVUo0RAIZdHh0VGeIEJhtw80eI3PIcN4Pcd607qswRFgEZtDh0XEqDGG/En9WGSULsT4a0uxgNbhdD/XSzPQY4l3FEJNMfuNuDqoNiWsR+JXPdr5IqweixvFpMYToDDo8OiZqiF7DCeaokinAQUPGyzImdIzhtC5ntD3XnwZDyMigw6NjoobwZFLpdaBOpQjIWwOoSFO48UneEn3swkkbQlYGHR4dkzXEBCb10msRhGXocxfE8lbkPmmzJA0hM4MOj45TZgiLnrM4JepVvj40SQoCv14nliGscX/4u+ziP3WUn0GHR8fpM4QlieE0qIjUOvRb51FK2Lq5DKEmgw6PjsoMMbC6xuHCzFsZ39uuIYQsTsk2RGTUZdDh0VGZIehknYFLt2HPE4i6GEJtBh0eHdUZgv7OCN9pVQ/qTtqA3ORsQBaqDKE6gw6PjgoNYYVR1MKL9/GvCX36i0R8ZgOyUGIIeuhSlEGHR0fmWfPz85EvFJZ+y4CCM+dmlUwBDMXZS1UYIokMOrSGYXVknrW8vOy5UK8nuHvDLWRGBQruFjL8MrISVM9aIP072BjIN4T6DDqoGa3hwsICORIM0xAbGxuei2H3pfm3uLu782i4urpKjgTDNESpVPJcrNGI9xayRj03NzceDfFDHgamIfb29jwX29/fJ0c0/wpHR0ceDXd3d8mRYJiGuLy89FxscXGRHNH8K6ytrXk0/PnzJzkSDNMQLy8vMDs767ng/f09OaqZdsYDypmZGfj79y85GgzTEMj29rbnojs7O+SIZtrBIZ7WLmz8gPga4uLiwnNRdBlGrprp5vHx0daK1u779+/k6Nv4GuL19XViHNrc3CRHNdPKeM+Oa0qoZVh8DYGMT12wYPSqmU6wJxjXK+qSQaAhkK2trYlKcBaimS7wwzs+VORyOXI0PG8aAiNWXPakK5qbm4OrqytyhiZp0AyoCa0RPo/6/fs3OSM8bxoCwaXr8WkoluPjY3KGJilwmBjvGfD/aBIeQhkCOT8/91TqlM+fP3M5URMPnE2MB5BO+fHjBzkrOqENgeBq17gbseDPcLkbb1IjFxzCcZ3BT4c4ZkAiGQK5vb2diCnogk/VDg8P7S4L1y2EPzp/R2DbYRtiW+LsbnwZgC4YM/AOEzSRDYE8PT1NPCIPKnqqGp3xh1NBBWcTooZtLkM44ExjZWWFeZN00YaIThhD4KKT6K0JsQyB4CoYxha4iska17BoQ0THzxDYxtg74+wiygpkWGIbgub5+dmejeCzdzQIjnkfP37UhuAA2wxjNYzJ0ADYpvjBC/vUkhehhtD8+2hDaDxoQ2g8aENoPGhDaCgA/gf1ruXDxyq90gAAAABJRU5ErkJggg==)"
      ]
    },
    {
      "cell_type": "code",
      "metadata": {
        "colab": {
          "base_uri": "https://localhost:8080/"
        },
        "id": "0Cy8ueyO8pJ3",
        "outputId": "bafa862a-d1f5-4ea5-e6ef-b6690aa1524f"
      },
      "source": [
        "import numpy as np\n",
        "\n",
        "C = np.array ([[1,2,3],[2,3,3],[3,4,-2]])\n",
        "print(C)\n",
        "invC = np.linalg.inv(C)\n",
        "print()\n",
        "print(\"The inverse of Matrix C:\")\n",
        "print()\n",
        "print(invC)"
      ],
      "execution_count": 13,
      "outputs": [
        {
          "output_type": "stream",
          "name": "stdout",
          "text": [
            "[[ 1  2  3]\n",
            " [ 2  3  3]\n",
            " [ 3  4 -2]]\n",
            "\n",
            "The inverse of Matrix C:\n",
            "\n",
            "[[-3.6  3.2 -0.6]\n",
            " [ 2.6 -2.2  0.6]\n",
            " [-0.2  0.4 -0.2]]\n"
          ]
        }
      ]
    },
    {
      "cell_type": "markdown",
      "metadata": {
        "id": "BT-EllEk8sDa"
      },
      "source": [
        "##Question 5. What is the determinant of the given matrix in Question 4? Show your solution by python coding. (20 points)"
      ]
    },
    {
      "cell_type": "code",
      "metadata": {
        "colab": {
          "base_uri": "https://localhost:8080/"
        },
        "id": "2oBsiw1O8tXm",
        "outputId": "947a2a9f-3720-48e8-84fe-5c01d804baf3"
      },
      "source": [
        "import numpy as np\n",
        "\n",
        "C = np.array ([[1,2,3],[2,3,3],[3,4,-2]])\n",
        "\n",
        "detOfC = np.linalg.det(C)\n",
        "\n",
        "print(\"The Determinant of the given matrix in Question 4:\")\n",
        "print(int(detOfC))"
      ],
      "execution_count": 12,
      "outputs": [
        {
          "output_type": "stream",
          "name": "stdout",
          "text": [
            "The Determinant of the given matrix in Question 4:\n",
            "5\n"
          ]
        }
      ]
    },
    {
      "cell_type": "markdown",
      "metadata": {
        "id": "3dtBGgZX8tjn"
      },
      "source": [
        "##Question 6. Find the roots of the linear equations by showing its python codes (30 points)\n",
        "\n",
        "5X1 + 4X2 + X3 = 3.4\n",
        "\n",
        "10X1 + 9X2 + 4X3 = 8.8\n",
        "\n",
        "10X1 + 13X2 + 15X3 = 19.2"
      ]
    },
    {
      "cell_type": "code",
      "metadata": {
        "colab": {
          "base_uri": "https://localhost:8080/"
        },
        "id": "tpdUabpF_dEX",
        "outputId": "695ab7f4-1893-4077-c26f-7c6491959eb4"
      },
      "source": [
        "import numpy as np\n",
        "\n",
        "A = np.array([[5,4,1],[10,9,4],[10,13,15]]) #creation of matrix A\n",
        "print(A)\n",
        "print()\n",
        "inv_A = np.linalg.inv(A)\n",
        "print(inv_A)\n",
        "print()\n",
        "\n",
        "B = np.array([[3.4],[8.8],[19.2]])\n",
        "print(B)\n",
        "print()\n",
        "\n",
        "X = np.dot(inv_A, A)\n",
        "print(X)\n",
        "print()\n",
        "\n",
        "print(\"The roots of the given linear equations are\" )\n",
        "print()\n",
        "\n",
        "Y = np.dot(inv_A, B)\n",
        "print(Y)"
      ],
      "execution_count": 17,
      "outputs": [
        {
          "output_type": "stream",
          "name": "stdout",
          "text": [
            "[[ 5  4  1]\n",
            " [10  9  4]\n",
            " [10 13 15]]\n",
            "\n",
            "[[ 5.53333333 -3.13333333  0.46666667]\n",
            " [-7.33333333  4.33333333 -0.66666667]\n",
            " [ 2.66666667 -1.66666667  0.33333333]]\n",
            "\n",
            "[[ 3.4]\n",
            " [ 8.8]\n",
            " [19.2]]\n",
            "\n",
            "[[ 1.00000000e+00 -3.88578059e-16 -7.21644966e-16]\n",
            " [-2.22044605e-16  1.00000000e+00  5.55111512e-16]\n",
            " [ 1.11022302e-16  9.43689571e-16  1.00000000e+00]]\n",
            "\n",
            "The roots of the given linear equations are\n",
            "\n",
            "[[0.2]\n",
            " [0.4]\n",
            " [0.8]]\n"
          ]
        }
      ]
    }
  ]
}