{
  "nbformat": 4,
  "nbformat_minor": 0,
  "metadata": {
    "colab": {
      "name": "Practical Lab Exam 1",
      "provenance": [],
      "authorship_tag": "ABX9TyO6nwl8FO7XslN1U5kdWVnT",
      "include_colab_link": true
    },
    "kernelspec": {
      "name": "python3",
      "display_name": "Python 3"
    },
    "language_info": {
      "name": "python"
    }
  },
  "cells": [
    {
      "cell_type": "markdown",
      "metadata": {
        "id": "view-in-github",
        "colab_type": "text"
      },
      "source": [
        "<a href=\"https://colab.research.google.com/github/margarevalo/Linear-Algebra-58019/blob/main/Practical_Lab_Exam_1.ipynb\" target=\"_parent\"><img src=\"https://colab.research.google.com/assets/colab-badge.svg\" alt=\"Open In Colab\"/></a>"
      ]
    },
    {
      "cell_type": "markdown",
      "metadata": {
        "id": "Ndd3gvCEnxB4"
      },
      "source": [
        "# Practical Lab Exam 1"
      ]
    },
    {
      "cell_type": "code",
      "metadata": {
        "colab": {
          "base_uri": "https://localhost:8080/"
        },
        "id": "3HFw9udonwsR",
        "outputId": "8f9902a9-9c46-4d8e-fa6f-464175fca256"
      },
      "source": [
        "import numpy as np\n",
        "A = np.array ([[1,2,3],[4,5,6]])\n",
        "print(\"A =\", A)\n",
        "print()\n",
        "B = np.array ([[1,2],[3,4],[5,6]])\n",
        "print(\"B =\", B)\n",
        "print()\n",
        "C = np.array ([[1,2,3],[4,5,6],[7,8,9]])\n",
        "print(\"C =\", C)\n",
        "print()\n",
        "D = np.array ([[1,2],[3,4]])\n",
        "print(\"D =\", D)\n",
        "print()\n",
        "print(\"Examples\")\n",
        "print()\n",
        "\n",
        "dot = np.dot(A,B)\n",
        "print(\"a. AB =\", dot)\n",
        "print()\n",
        "\n",
        "sum = D+D\n",
        "print(\"b. D + D =\", sum)\n",
        "print()\n",
        "\n",
        "\n",
        "S = 2*C\n",
        "print(\"c. 2C =\", S)"
      ],
      "execution_count": 30,
      "outputs": [
        {
          "output_type": "stream",
          "name": "stdout",
          "text": [
            "A = [[1 2 3]\n",
            " [4 5 6]]\n",
            "\n",
            "B = [[1 2]\n",
            " [3 4]\n",
            " [5 6]]\n",
            "\n",
            "C = [[1 2 3]\n",
            " [4 5 6]\n",
            " [7 8 9]]\n",
            "\n",
            "D = [[1 2]\n",
            " [3 4]]\n",
            "\n",
            "Examples\n",
            "\n",
            "a. AB = [[22 28]\n",
            " [49 64]]\n",
            "\n",
            "b. D + D = [[2 4]\n",
            " [6 8]]\n",
            "\n",
            "c. 2C = [[ 2  4  6]\n",
            " [ 8 10 12]\n",
            " [14 16 18]]\n"
          ]
        }
      ]
    },
    {
      "cell_type": "code",
      "metadata": {
        "colab": {
          "base_uri": "https://localhost:8080/"
        },
        "id": "cZGoUa1kvip-",
        "outputId": "22f9f033-bfd2-471c-b5db-4d3be01d0a88"
      },
      "source": [
        "import numpy as np\n",
        "A = np.array([5,3,-1])\n",
        "\n",
        "print('Size of array:', A.size)\n",
        "print('Type of array:', type(A))\n",
        "print('Shape of array:', A.shape)\n",
        "print('Dimension of array:', A.ndim)"
      ],
      "execution_count": 33,
      "outputs": [
        {
          "output_type": "stream",
          "name": "stdout",
          "text": [
            "Size of array: 3\n",
            "Type of array: <class 'numpy.ndarray'>\n",
            "Shape of array: (3,)\n",
            "Dimension of array: 1\n"
          ]
        }
      ]
    }
  ]
}