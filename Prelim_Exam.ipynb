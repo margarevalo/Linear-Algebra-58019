{
  "nbformat": 4,
  "nbformat_minor": 0,
  "metadata": {
    "colab": {
      "name": "Prelim Exam",
      "provenance": [],
      "authorship_tag": "ABX9TyO5xF1uciD8WG9gc33g7BTt",
      "include_colab_link": true
    },
    "kernelspec": {
      "name": "python3",
      "display_name": "Python 3"
    },
    "language_info": {
      "name": "python"
    }
  },
  "cells": [
    {
      "cell_type": "markdown",
      "metadata": {
        "id": "view-in-github",
        "colab_type": "text"
      },
      "source": [
        "<a href=\"https://colab.research.google.com/github/margarevalo/Linear-Algebra-58019/blob/main/Prelim_Exam.ipynb\" target=\"_parent\"><img src=\"https://colab.research.google.com/assets/colab-badge.svg\" alt=\"Open In Colab\"/></a>"
      ]
    },
    {
      "cell_type": "markdown",
      "metadata": {
        "id": "SL3PsL1PiT5a"
      },
      "source": [
        "# Prelim Exam"
      ]
    },
    {
      "cell_type": "markdown",
      "metadata": {
        "id": "OKCX5uv1iZR0"
      },
      "source": [
        "**Question 1**. (20 points) Create a 4 x 4 matrix whose diagonal elements are all one (1's). Name it as matrix \"C\". Show your solutions using Python codes and do not forget to label them on the Text Cell."
      ]
    },
    {
      "cell_type": "code",
      "metadata": {
        "colab": {
          "base_uri": "https://localhost:8080/"
        },
        "id": "q8QhKM5NiXav",
        "outputId": "a7a98adf-fbd3-496b-9b72-3a29e775e13f"
      },
      "source": [
        "import numpy as np\n",
        "C = np.eye(4) \n",
        "print(C)"
      ],
      "execution_count": 9,
      "outputs": [
        {
          "output_type": "stream",
          "name": "stdout",
          "text": [
            "[[1. 0. 0. 0.]\n",
            " [0. 1. 0. 0.]\n",
            " [0. 0. 1. 0.]\n",
            " [0. 0. 0. 1.]]\n"
          ]
        }
      ]
    },
    {
      "cell_type": "markdown",
      "metadata": {
        "id": "f04a0gskk-j8"
      },
      "source": [
        "**Question 2**. (20 points) In relation to Question 1, show a solution that doubles all the values of each element. Show your solutions using Python codes and do not forget to label them on the Text Cell."
      ]
    },
    {
      "cell_type": "code",
      "metadata": {
        "colab": {
          "base_uri": "https://localhost:8080/"
        },
        "id": "PLEl_T_LlB5A",
        "outputId": "7c9a19ca-8151-4bc8-d21f-945f04fb19e8"
      },
      "source": [
        "import numpy as np\n",
        "C = np.eye(4) \n",
        "print(C+C)"
      ],
      "execution_count": 10,
      "outputs": [
        {
          "output_type": "stream",
          "name": "stdout",
          "text": [
            "[[2. 0. 0. 0.]\n",
            " [0. 2. 0. 0.]\n",
            " [0. 0. 2. 0.]\n",
            " [0. 0. 0. 2.]]\n"
          ]
        }
      ]
    },
    {
      "cell_type": "markdown",
      "metadata": {
        "id": "-wX0Vwz2mLNA"
      },
      "source": [
        "**Question 3**. (10 points) Find the cross-product of matrices, A = [2,7,4] and\n",
        "\n",
        "B = [3,9,8]. Show your solutions using Python codes and do not forget to label them on the Text Cell."
      ]
    },
    {
      "cell_type": "code",
      "metadata": {
        "colab": {
          "base_uri": "https://localhost:8080/"
        },
        "id": "_qwkOW21mKmT",
        "outputId": "f88744e7-1eaf-4d32-c369-683435fd1f4b"
      },
      "source": [
        "import numpy as np\n",
        "A = np.array([2,7,4])\n",
        "B = np.array([3,9,8])\n",
        "\n",
        "#compute the cross product of A and B\n",
        "cross = np.cross(A,B)\n",
        "print(cross)"
      ],
      "execution_count": 8,
      "outputs": [
        {
          "output_type": "stream",
          "name": "stdout",
          "text": [
            "[20 -4 -3]\n"
          ]
        }
      ]
    }
  ]
}