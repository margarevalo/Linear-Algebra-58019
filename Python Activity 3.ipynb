{
  "nbformat": 4,
  "nbformat_minor": 0,
  "metadata": {
    "colab": {
      "name": "Coding Activity 3.ipynb",
      "provenance": [],
      "authorship_tag": "ABX9TyPlNzL0hwVPGrwVVmC4gqSO",
      "include_colab_link": true
    },
    "kernelspec": {
      "name": "python3",
      "display_name": "Python 3"
    },
    "language_info": {
      "name": "python"
    }
  },
  "cells": [
    {
      "cell_type": "markdown",
      "metadata": {
        "id": "view-in-github",
        "colab_type": "text"
      },
      "source": [
        "<a href=\"https://colab.research.google.com/github/margarevalo/Linear-Algebra-58019/blob/main/Coding_Activity_3.ipynb\" target=\"_parent\"><img src=\"https://colab.research.google.com/assets/colab-badge.svg\" alt=\"Open In Colab\"/></a>"
      ]
    },
    {
      "cell_type": "markdown",
      "metadata": {
        "id": "DyJ5vd3mQHed"
      },
      "source": [
        "##Coding Activity 3"
      ]
    },
    {
      "cell_type": "code",
      "metadata": {
        "colab": {
          "base_uri": "https://localhost:8080/"
        },
        "id": "KeM5KBL1PfPD",
        "outputId": "c3cb9e7e-3d48-4060-f643-3f566380461f"
      },
      "source": [
        "import numpy as np\n",
        "A = np.array([[4,10,8],[10,26,26],[8,26,61]]) #creation of matrix A\n",
        "print(A)\n",
        "print()\n",
        "inv_A = np.linalg.inv(A) #creation of inverse of matrix A\n",
        "print(inv_A)\n",
        "print()\n",
        "\n",
        "B = np.array([[44],[128],[214]]) #creation of matrix B\n",
        "print(B)\n",
        "print()\n",
        "X = np.dot(inv_A, B)\n",
        "print(X)\n",
        "print()\n",
        "\n",
        "#Checking of the correct answer\n",
        "Z = np.dot(A,X) \n",
        "print(Z)\n"
      ],
      "execution_count": 2,
      "outputs": [
        {
          "output_type": "stream",
          "name": "stdout",
          "text": [
            "[[ 4 10  8]\n",
            " [10 26 26]\n",
            " [ 8 26 61]]\n",
            "\n",
            "[[ 25.27777778 -11.16666667   1.44444444]\n",
            " [-11.16666667   5.          -0.66666667]\n",
            " [  1.44444444  -0.66666667   0.11111111]]\n",
            "\n",
            "[[ 44]\n",
            " [128]\n",
            " [214]]\n",
            "\n",
            "[[-8.]\n",
            " [ 6.]\n",
            " [ 2.]]\n",
            "\n",
            "[[ 44.]\n",
            " [128.]\n",
            " [214.]]\n"
          ]
        }
      ]
    }
  ]
}
